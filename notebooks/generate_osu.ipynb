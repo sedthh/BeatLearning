{
 "cells": [
  {
   "cell_type": "code",
   "execution_count": null,
   "metadata": {},
   "outputs": [],
   "source": [
    "# allow relative import from parent directory\n",
    "import sys  \n",
    "from pathlib import Path\n",
    "sys.path.insert(0, str(Path().resolve().parents[0]))"
   ]
  },
  {
   "cell_type": "markdown",
   "metadata": {},
   "source": [
    "# Automatically generate OSU beatmaps\n",
    "1. Initiate a model from tokenzier settings + checkpoint\n",
    "2. Upload MP3\n",
    "3. Generate beatmap based on audio and sampling settings\n",
    "4. Convert generated beatmap to .OSZ\n",
    "5. Download file"
   ]
  },
  {
   "cell_type": "code",
   "execution_count": null,
   "metadata": {},
   "outputs": [],
   "source": [
    "# load the model\n",
    "import torch\n",
    "from beatlearning.configs import QuaverBEaRT\n",
    "from beatlearning.tokenizers import BEaRTTokenizer\n",
    "from beatlearning.models import BEaRT\n",
    "\n",
    "model_config = QuaverBEaRT()\n",
    "tokenizer = BEaRTTokenizer(model_config)\n",
    "model = BEaRT(tokenizer)\n",
    "model.load(\"../models/checkpoint.pt\")\n",
    "\n",
    "device = torch.device(\"cuda:0\" if torch.cuda.is_available() else \"cpu\")\n",
    "model.to(device)\n",
    "print(device)"
   ]
  },
  {
   "cell_type": "markdown",
   "metadata": {},
   "source": [
    "# ONLY USE AUDIO CONCENT FOR WHICH YOU HOLD THE RIGHTS!"
   ]
  },
  {
   "cell_type": "code",
   "execution_count": null,
   "metadata": {},
   "outputs": [],
   "source": [
    "# Upload MP3\n",
    "from ipywidgets import FileUpload\n",
    "from IPython.display import Audio\n",
    "import librosa\n",
    "import tempfile\n",
    "import os\n",
    "\n",
    "upload = FileUpload(accept=\".mp3\", multiple=False)\n",
    "upload"
   ]
  },
  {
   "cell_type": "code",
   "execution_count": null,
   "metadata": {},
   "outputs": [],
   "source": [
    "# SET the following:\n",
    "title = \"Untitled\"\n",
    "artist = \"Unknown Artist\"\n",
    "source = \"Unknown Source\"\n",
    "\n",
    "audio_start = 0.0  # beatmap will start from this point, but all audio will be used\n",
    "audio_end = None  # if None, all audio will be used\n",
    "difficulty = 0.5  # between 0. - 1. where 1. is insane difficulty\n",
    "####################\n",
    "\n",
    "dirpath = tempfile.mkdtemp()\n",
    "mp3 = os.path.join(dirpath, 'audio.mp3')\n",
    "with open(mp3, 'wb') as output_file: \n",
    "    try:\n",
    "        content = upload.value[-1]['content']   \n",
    "    except IndexError:\n",
    "        raise IndexError(\"You forgot to upload a file in the previous cell!\")\n",
    "    output_file.write(content)\n",
    "y, sr = librosa.load(mp3, offset=audio_start, duration=None if audio_end is None else audio_end - audio_start)\n",
    "Audio(data=y, rate=sr)"
   ]
  },
  {
   "cell_type": "code",
   "execution_count": null,
   "metadata": {},
   "outputs": [],
   "source": [
    "# Generate beatmap\n",
    "\n",
    "# ignore all holds, use only hits:\n",
    "hits_only = {hold: -float(\"inf\") for hold in range(len(tokenizer.RESERVED_TOKENS) + 1, 60)}\n",
    "# hits_only[len(tokenizer.RESERVED_TOKENS)] = -0.01\n",
    "\n",
    "ibf = model.generate(audio_file=mp3, audio_start = audio_start, audio_end = None, \n",
    "                    use_tracks = [\"LEFT\"],  # only [\"LEFT\"] for OSU is supported at the moment\n",
    "                    difficulty = difficulty,\n",
    "                    beams = [2] * 8,    # use lower when on CPU\n",
    "                    top_k = 2,          # top_k is randomly sampled after beam search\n",
    "                    temperature = 1.0,  # < 1 more conservative, > 1 more creative but is off more often\n",
    "                    logit_bias = hits_only)\n",
    "\n",
    "result = os.path.join(dirpath, 'tmp.idf')\n",
    "ibf.save(result)\n",
    "ibf.data.head()"
   ]
  },
  {
   "cell_type": "code",
   "execution_count": null,
   "metadata": {},
   "outputs": [],
   "source": [
    "# Convert generated beatmap to OSZ file format\n",
    "\n",
    "from beatlearning.converters import OsuBeatmapConverter\n",
    "\n",
    "osu = os.path.join(dirpath, 'tmp.osz')\n",
    "converter = OsuBeatmapConverter()\n",
    "converter.generate(result, osu, \n",
    "                   meta={\n",
    "                        \"lead_in\": 0, \n",
    "                        \"title\": title,\n",
    "                        \"artist\": artist,\n",
    "                        \"source\": source,\n",
    "                        \"difficulty_name\": [\"easy\", \"normal\", \"hard\", \"insane\"][min(3, int(difficulty * 3))],\n",
    "                        \"hp_drain_rate\": 5,\n",
    "                        \"overall_difficulty\": int(7 * difficulty),\n",
    "                        \"approach_rate\": 5, \n",
    "                        \"slider_multiplier\": 1.8,\n",
    "                        \"bg\": None,\n",
    "                   })"
   ]
  },
  {
   "cell_type": "code",
   "execution_count": null,
   "metadata": {},
   "outputs": [],
   "source": [
    "# Download OSZ file\n",
    "\n",
    "from ipywidgets import HTML\n",
    "from IPython.display import display\n",
    "import base64\n",
    "\n",
    "with open(osu, \"rb\") as f:\n",
    "    osu_file = f.read()\n",
    "\n",
    "b64 = base64.b64encode(osu_file)\n",
    "payload = b64.decode()\n",
    "output_file = \"beatmap.osz\"\n",
    "\n",
    "html_button = f'''<html><head><meta name=\"viewport\" content=\"width=device-width, initial-scale=1\"></head>\n",
    "<body>\n",
    "<a download=\"{output_file}\" href=\"data:text/csv;base64,{payload}\" download>\n",
    "<button class=\"p-Widget jupyter-widgets jupyter-button widget-button mod-warning\">Download File</button></a>\n",
    "</body></html>\n",
    "'''\n",
    "display(HTML(html_button))"
   ]
  },
  {
   "cell_type": "markdown",
   "metadata": {},
   "source": [
    "Hey hey! Let me know if you have another MP3 to convert! "
   ]
  }
 ],
 "metadata": {
  "kernelspec": {
   "display_name": ".venv",
   "language": "python",
   "name": "python3"
  },
  "language_info": {
   "codemirror_mode": {
    "name": "ipython",
    "version": 3
   },
   "file_extension": ".py",
   "mimetype": "text/x-python",
   "name": "python",
   "nbconvert_exporter": "python",
   "pygments_lexer": "ipython3",
   "version": "3.12.2"
  }
 },
 "nbformat": 4,
 "nbformat_minor": 2
}
