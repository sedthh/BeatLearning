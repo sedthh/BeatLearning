{
 "cells": [
  {
   "cell_type": "code",
   "execution_count": null,
   "metadata": {},
   "outputs": [],
   "source": [
    "# allow relative import from parent directory\n",
    "import sys  \n",
    "from pathlib import Path\n",
    "sys.path.insert(0, str(Path().resolve().parents[0]))"
   ]
  },
  {
   "cell_type": "markdown",
   "metadata": {},
   "source": [
    "# Automatically generate OSU beatmaps\n",
    "1. Initiate a model from tokenzier settings + checkpoint\n",
    "2. Upload MP3\n",
    "3. Generate beatmap based on audio and sampling settings\n",
    "4. Convert generated beatmap to .OSZ\n",
    "5. Download file"
   ]
  },
  {
   "cell_type": "code",
   "execution_count": null,
   "metadata": {},
   "outputs": [],
   "source": [
    "# downlaod model checkpoint from HF\n",
    "\n",
    "from huggingface_hub import hf_hub_download\n",
    "checkpoint = hf_hub_download(repo_id=\"sedthh/BeatLearning\", filename=\"quaver_beart_v1.pt\")"
   ]
  },
  {
   "cell_type": "code",
   "execution_count": null,
   "metadata": {},
   "outputs": [],
   "source": [
    "# load the model\n",
    "import torch\n",
    "from beatlearning.configs import QuaverBEaRT\n",
    "from beatlearning.tokenizers import BEaRTTokenizer\n",
    "from beatlearning.models import BEaRT\n",
    "\n",
    "model_config = QuaverBEaRT()\n",
    "tokenizer = BEaRTTokenizer(model_config)\n",
    "model = BEaRT(tokenizer)\n",
    "\n",
    "if torch.cuda.is_available():\n",
    "    device = \"cuda:0\"\n",
    "    model.load(checkpoint)\n",
    "else:\n",
    "    device = \"cpu\"\n",
    "    model.load(checkpoint, map_location=torch.device(\"cpu\"))\n",
    "model.to(device)\n",
    "\n",
    "print(\"device:\", device)"
   ]
  },
  {
   "cell_type": "markdown",
   "metadata": {},
   "source": [
    "# ONLY USE AUDIO CONCENT FOR WHICH YOU HOLD THE RIGHTS!"
   ]
  },
  {
   "cell_type": "code",
   "execution_count": null,
   "metadata": {},
   "outputs": [],
   "source": [
    "# Upload MP3\n",
    "from ipywidgets import FileUpload\n",
    "from IPython.display import Audio\n",
    "import librosa\n",
    "import tempfile\n",
    "import os\n",
    "import uuid\n",
    "\n",
    "beatmap_uid = uuid.uuid4().hex\n",
    "upload = FileUpload(accept=\".mp3\", multiple=False)\n",
    "upload"
   ]
  },
  {
   "cell_type": "code",
   "execution_count": null,
   "metadata": {},
   "outputs": [],
   "source": [
    "# SET the following:\n",
    "title = \"Untitled\" \n",
    "artist = \"Unknown Artist\"\n",
    "source = \"MP3\"\n",
    "\n",
    "# note: you can get slightly better results if you get the start of the very first beat right\n",
    "audio_start = 0.0  # beatmap will start from this point, but all audio will be used\n",
    "audio_end = None  # if None, the entire audio will be used\n",
    "difficulty = 0.5  # between 0. - 1. where 1. is harder difficulty\n",
    "random_seed = 69420\n",
    "####################\n",
    "\n",
    "dirpath = tempfile.mkdtemp()\n",
    "mp3 = os.path.join(dirpath, 'audio.mp3')\n",
    "with open(mp3, 'wb') as output_file: \n",
    "    try:\n",
    "        content = upload.value[-1]['content']   \n",
    "    except IndexError:\n",
    "        raise IndexError(\"You forgot to upload a file in the previous cell!\")\n",
    "    output_file.write(content)\n",
    "y, sr = librosa.load(mp3, offset=audio_start, duration=None if audio_end is None else audio_end - audio_start)\n",
    "Audio(data=y, rate=sr)"
   ]
  },
  {
   "cell_type": "code",
   "execution_count": null,
   "metadata": {},
   "outputs": [],
   "source": [
    "# Generate beatmap\n",
    "\n",
    "\"\"\"\n",
    "The model currently has the tendency to predict a lot of holds,\n",
    "as a quick workaround, you can disable all holds by adding this logit_bias:\n",
    "\"\"\"\n",
    "logit_bias = {hold: -float('Inf') for hold in range(9, 60)}\n",
    "\n",
    "ibf = model.generate(audio_file=mp3, audio_start = audio_start, audio_end = audio_end, \n",
    "                     use_tracks = [\"LEFT\"],  # only [\"LEFT\"] for OSU is supported at the moment\n",
    "                     difficulty = difficulty,\n",
    "                     logit_bias = logit_bias, # comment this line to enable holds\n",
    "                     beams = [2] * (4 if difficulty > 0.5 else 8),\n",
    "                     max_beam_width = 256,  # lower values are faster but less accurate\n",
    "                     temperature = 0.1, # you usually want a low temperature for better accuracy\n",
    "                     random_seed = random_seed)\n",
    "\n",
    "result = os.path.join(dirpath, 'tmp.ibf')\n",
    "ibf.save(result)"
   ]
  },
  {
   "cell_type": "code",
   "execution_count": null,
   "metadata": {},
   "outputs": [],
   "source": [
    "# Upload background image (OPTIONAL)\n",
    "\n",
    "image = FileUpload(multiple=False)\n",
    "image"
   ]
  },
  {
   "cell_type": "code",
   "execution_count": null,
   "metadata": {},
   "outputs": [],
   "source": [
    "# Convert generated beatmap to OSZ file format\n",
    "\n",
    "from beatlearning.converters import OsuBeatmapConverter\n",
    "\n",
    "# try to add background image\n",
    "bg = os.path.join(dirpath, 'BG.png')\n",
    "with open(bg, 'wb') as output_file: \n",
    "    try:\n",
    "        content = image.value[-1]['content']   \n",
    "    except (IndexError, NameError):\n",
    "        bg = None\n",
    "    output_file.write(content)\n",
    "\n",
    "# create osz file\n",
    "osu = os.path.join(dirpath, 'tmp.osz')\n",
    "converter = OsuBeatmapConverter()\n",
    "converter.generate(result, osu, \n",
    "                   meta={\n",
    "                    \"title\": title,\n",
    "                    \"artist\": artist,\n",
    "                    \"source\": source,\n",
    "                    \"difficulty_name\": [\"easy\", \"normal\", \"hard\"][min(2, int(difficulty * 2))],\n",
    "                    \"overall_difficulty\": int(7 * difficulty),\n",
    "                    \"hp_drain_rate\": 1 + int(6 * difficulty), \n",
    "                    \"approach_rate\": 1 + int(6 * difficulty), \n",
    "                    \"bg\": bg,\n",
    "                    \"osu_file\": f\"beatmap_{beatmap_uid}.osu\"\n",
    "                   })"
   ]
  },
  {
   "cell_type": "code",
   "execution_count": null,
   "metadata": {},
   "outputs": [],
   "source": [
    "# Download OSZ file\n",
    "\n",
    "from ipywidgets import HTML\n",
    "from IPython.display import display\n",
    "import base64\n",
    "\n",
    "with open(osu, \"rb\") as f:\n",
    "    osu_file = f.read()\n",
    "\n",
    "b64 = base64.b64encode(osu_file)\n",
    "payload = b64.decode()\n",
    "output_file = f\"beatmap_{beatmap_uid}.osz\"\n",
    "\n",
    "html_button = f'''<html><head><meta name=\"viewport\" content=\"width=device-width, initial-scale=1\"></head>\n",
    "<body>\n",
    "<a download=\"{output_file}\" href=\"data:text/csv;base64,{payload}\" download>\n",
    "<button class=\"p-Widget jupyter-widgets jupyter-button widget-button mod-warning\">Download File</button></a>\n",
    "</body></html>\n",
    "'''\n",
    "display(HTML(html_button))"
   ]
  },
  {
   "cell_type": "markdown",
   "metadata": {},
   "source": [
    "Hey hey! Let me know if you have another MP3 to convert! "
   ]
  }
 ],
 "metadata": {
  "kernelspec": {
   "display_name": ".venv",
   "language": "python",
   "name": "python3"
  },
  "language_info": {
   "codemirror_mode": {
    "name": "ipython",
    "version": 3
   },
   "file_extension": ".py",
   "mimetype": "text/x-python",
   "name": "python",
   "nbconvert_exporter": "python",
   "pygments_lexer": "ipython3",
   "version": "3.12.2"
  }
 },
 "nbformat": 4,
 "nbformat_minor": 2
}
